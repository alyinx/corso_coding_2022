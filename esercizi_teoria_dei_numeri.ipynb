{
 "cells": [
  {
   "cell_type": "markdown",
   "id": "3b1900a4",
   "metadata": {},
   "source": [
    "# I numeri primi\n",
    "Lo studio dei numeri interi ha affascinato da sempre i matematici: la branca della matematica che li studia, l’aritmetica o teoria dei numeri, è estremamente elegante e sofisticata e ha impegnato per millenni la maggior parte dei più grandi matematici della storia. L’avvento dei computer ha avuto il duplice effetto di aprire nuove prospettive di ricerca e permettere nuove applicazioni pratiche. Attualmente, tutte le comunicazioni crittografate (e quindi tutto internet) sono basati su teoremi di teoria dei numeri (si veda, per esempio, l’algoritmo RSA).\n",
    "In questa sezione useremo il Python per studiare una particolare categoria di numeri naturali: i numeri primi. Un numero primo $p$ è un numero che ha esattamente due divisori: $1$ e $p$ stesso. Come tutti sanno, i primi numeri primi sono\n",
    "\n",
    "2,3,5,7,11,13,17,19,23,29,31,37, …\n",
    "\n",
    "La distribuzione di questi numeri ha da sempre affascinato i matematici, perché è irregolare: la densità di numeri primi tende a diminuire con il valore numerico. Tuttavia, sono stati scoperti numeri primi gemelli (la cui differenza è di solo due unità) anche con valori numerici estremamente elevati.\n",
    "\n",
    "\n",
    "In Python, puoi controllare se un numero divide un altro numero usando l'operatore `%`, che restituisce il resto della divisione intera tra due numeri. Ad esempio:"
   ]
  },
  {
   "cell_type": "code",
   "execution_count": null,
   "id": "c1d432da",
   "metadata": {},
   "outputs": [],
   "source": [
    "print(22%13)\n",
    "print(22%11)\n",
    "\n",
    "a = 22\n",
    "b = 11\n",
    "if a%b == 0:\n",
    "    print(f\"Il numero {b} è un divisore del numero {a}\")\n",
    "else:\n",
    "    print(f\"Il numero {b} non è un divisore del numero {a}\")\n",
    "\n"
   ]
  },
  {
   "cell_type": "markdown",
   "id": "ec7df219",
   "metadata": {},
   "source": [
    "### Esercizio 1\n",
    "Scrivi 2 funzioni che prendano come argomento un numero `N` e scrivano in output:\n",
    "* la lista dei divisori;\n",
    "* se in numero `N` è primo oppure n."
   ]
  },
  {
   "cell_type": "markdown",
   "id": "abf8b848",
   "metadata": {},
   "source": [
    "## Il test di primalità\n",
    "La seguente funzione è un test di primalità, cioè restituisce `True` se il numero `N` in argomento è primo, `False` in caso contrario."
   ]
  },
  {
   "cell_type": "code",
   "execution_count": null,
   "id": "98d539fc",
   "metadata": {},
   "outputs": [],
   "source": [
    "def primo(N):\n",
    "    for i in range(2,N):\n",
    "        if n%i == 0:\n",
    "            return False\n",
    "        \n",
    "    return True"
   ]
  },
  {
   "cell_type": "markdown",
   "id": "0fdead53",
   "metadata": {},
   "source": [
    "Ad esempio:"
   ]
  },
  {
   "cell_type": "code",
   "execution_count": null,
   "id": "e24d31b6",
   "metadata": {},
   "outputs": [],
   "source": [
    "print(primo(19))\n",
    "print(primo(21))"
   ]
  },
  {
   "cell_type": "markdown",
   "id": "9104e57f",
   "metadata": {},
   "source": [
    "### Esercizio 2\n",
    "Puoi rendere la funzione precedente molto più efficiente evitando di provare a dividere l'argomento `N` per tutti i numeri fino a `N-1`. Infatti, un numero è primo se non ha ivisori minori o uguali alla radice `sqrt(N)`.\n",
    "\n",
    "Spiega perché e modifica il test di primalità in modo che sia più efficiente."
   ]
  },
  {
   "cell_type": "code",
   "execution_count": null,
   "id": "5eeab777",
   "metadata": {},
   "outputs": [],
   "source": []
  },
  {
   "cell_type": "markdown",
   "id": "52142d47",
   "metadata": {},
   "source": [
    "### Esercizio 3\n",
    "Utilizza il test di primalità per elencare il numero più grande possibile di numeri primi."
   ]
  },
  {
   "cell_type": "code",
   "execution_count": null,
   "id": "4dcaffb3",
   "metadata": {},
   "outputs": [],
   "source": []
  },
  {
   "cell_type": "markdown",
   "id": "f9f7360b",
   "metadata": {},
   "source": [
    "### Esercizio 4\n",
    "Un numero primo della forma\n",
    "\n",
    "$$p = 2^q - 1$$\n",
    "\n",
    "è detto un numero **primo di Mersenne**. Prova a trovare alcuni numeri primi di Mersenne e confronta quanto hai trovato con le informazioni che trovi su *Wikipedia*."
   ]
  },
  {
   "cell_type": "code",
   "execution_count": null,
   "id": "9a75fd61",
   "metadata": {},
   "outputs": [],
   "source": []
  }
 ],
 "metadata": {
  "kernelspec": {
   "display_name": "Python 3 (ipykernel)",
   "language": "python",
   "name": "python3"
  },
  "language_info": {
   "codemirror_mode": {
    "name": "ipython",
    "version": 3
   },
   "file_extension": ".py",
   "mimetype": "text/x-python",
   "name": "python",
   "nbconvert_exporter": "python",
   "pygments_lexer": "ipython3",
   "version": "3.9.7"
  }
 },
 "nbformat": 4,
 "nbformat_minor": 5
}
